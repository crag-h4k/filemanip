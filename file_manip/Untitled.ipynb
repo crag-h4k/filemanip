{
 "cells": [
  {
   "cell_type": "code",
   "execution_count": null,
   "metadata": {},
   "outputs": [],
   "source": [
    "def remove_flag(flag = 1, old_file = './test_logs/other_log.log', new_file = './test_logs/new_other_log.log'): \n",
    "    new_lines = []\n",
    "    try:  \n",
    "        if type(flag) is not str: flag = bytes(flag)\n",
    "        else: flag = bytes(flag, encoding='utf-8') \n",
    "\n",
    "\n",
    "        with open(old_file,'rb') as f:#lines = f.readlines()\n",
    "            for line in f:\n",
    "                if flag not in line: new_lines.append(line)\n",
    "                else: continue\n",
    "    \n",
    "        data = b''.join(new_lines)\n",
    "        with open(new_file,'wb') as f: f.write(data)\n",
    "\n",
    "    except Exception as E: \n",
    "        print(E, flag)\n",
    "        \n",
    "def replace_flag(old_flag = 'is', new_flag = 'was', fname = './test_logs/test_log.log'):\n",
    "    try:  \n",
    "        if type(flag) is not str: flag = bytes(flag)\n",
    "        else: flag = bytes(flag, encoding='utf-8') \n",
    "    new_lines = []\n",
    "    \n",
    "    with open(fname,'rb') as f:#lines = f.readlines()\n",
    "        for line in f:\n",
    "            print(line)\n",
    "        if old_flag not in line: \n",
    "            new_lines.append(line)\n",
    "            continue\n",
    "        new_line = line.replace(old_flag, new_flag)\n",
    "        new_lines.append(new_line)\n",
    "\n",
    "    except Exception as E:\n",
    "        print(E)\n",
    "    return"
   ]
  },
  {
   "cell_type": "code",
   "execution_count": 18,
   "metadata": {},
   "outputs": [],
   "source": []
  },
  {
   "cell_type": "code",
   "execution_count": 29,
   "metadata": {},
   "outputs": [
    {
     "name": "stdout",
     "output_type": "stream",
     "text": [
      "b'test\\n'\n",
      "b'this is cool\\n'\n",
      "b'not a very good file\\n'\n",
      "b'my cat is cute\\n'\n"
     ]
    }
   ],
   "source": [
    "#with open(fname,'rb') as f:#lines = f.readlines()\n",
    "old_flag = b' is '\n",
    "new_flag = b' was '\n",
    "fname = './test_logs/test_log.log'\n",
    "f = [b'test\\n',\n",
    "    b'this is cool\\n',\n",
    "    b'not a very good file\\n',\n",
    "    b'my cat is cute\\n',\n",
    "    ]    \n",
    "\n",
    "new_lines = []\n",
    "valid_lines = []\n",
    "for line in f:\n",
    "    print(line)\n",
    "    if old_flag not in line: \n",
    "        new_lines.append(line)\n",
    "        continue\n",
    "    new_line = line.replace(old_flag, new_flag)\n",
    "    new_lines.append(new_line)\n",
    "    #else: continue"
   ]
  },
  {
   "cell_type": "code",
   "execution_count": 30,
   "metadata": {},
   "outputs": [
    {
     "name": "stdout",
     "output_type": "stream",
     "text": [
      "b'test\\nthis was cool\\nnot a very good file\\nmy cat was cute\\n'\n"
     ]
    }
   ],
   "source": [
    "valid_lines = b''.join(new_lines)\n",
    "\n",
    "print(valid_lines)\n"
   ]
  },
  {
   "cell_type": "code",
   "execution_count": null,
   "metadata": {},
   "outputs": [],
   "source": []
  }
 ],
 "metadata": {
  "kernelspec": {
   "display_name": "Python 3",
   "language": "python",
   "name": "python3"
  },
  "language_info": {
   "codemirror_mode": {
    "name": "ipython",
    "version": 3
   },
   "file_extension": ".py",
   "mimetype": "text/x-python",
   "name": "python",
   "nbconvert_exporter": "python",
   "pygments_lexer": "ipython3",
   "version": "3.7.1"
  }
 },
 "nbformat": 4,
 "nbformat_minor": 2
}
